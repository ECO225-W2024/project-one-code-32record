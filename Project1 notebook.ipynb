{
 "cells": [
  {
   "cell_type": "markdown",
   "id": "0ec49b11",
   "metadata": {},
   "source": [
    "\"How does the type of property affect price of listings \""
   ]
  },
  {
   "cell_type": "markdown",
   "id": "bcb02d43",
   "metadata": {},
   "source": [
    "Introduction\n",
    "data and the souce: \"Boston Airbnb Open data\" from https://www.kaggle.com/datasets/airbnb/boston\n",
    "The main aim of this project is to determine the impact of types and characteristics of Airbnb listing on its price. Airbnb is a home-sharing plaform that allows hosts to rent out their homes in a way. The hosts get to set the prices for their listings, under certain regulations and guidance by the platform. There are many attributes of the listings (e.g., neighbourhood, amenities, reviews) that would possibly affect the pricing, but the type of property, being the most visible and distinguishable characteristic, certainly have a significant impact on the pricing. \n",
    "findings: "
   ]
  },
  {
   "cell_type": "code",
   "execution_count": 3,
   "id": "13991c89",
   "metadata": {},
   "outputs": [],
   "source": [
    "import pandas as pd"
   ]
  },
  {
   "cell_type": "code",
   "execution_count": 4,
   "id": "881ee706",
   "metadata": {},
   "outputs": [],
   "source": [
    "df = pd.read_csv('listings.csv')"
   ]
  },
  {
   "cell_type": "code",
   "execution_count": null,
   "id": "96476d5c",
   "metadata": {},
   "outputs": [],
   "source": [
    "df.head() "
   ]
  },
  {
   "cell_type": "markdown",
   "id": "7164899d",
   "metadata": {},
   "source": [
    "X variable: property_type, room_type, bathrooms, bedrooms\n",
    "Y variable: Price\n",
    "The x variables I chose here are all related to the type of property (and features of the property). Respectively, the variables represent what type of property it is (e.g. apartment, condo, house), what type of room they get (e.g. a shared room, an entire apartment, a private room), and how many bathrooms and bedrooms the property has. These factors must have a strong correlation with the y variable, price, as it is the distinct characteristic that affect pricing. "
   ]
  },
  {
   "cell_type": "code",
   "execution_count": 8,
   "id": "903d40ab",
   "metadata": {},
   "outputs": [],
   "source": [
    "x = df[['property_type', 'room_type', 'bathrooms', 'bedrooms']]\n",
    "y = df['price']"
   ]
  },
  {
   "cell_type": "code",
   "execution_count": 9,
   "id": "6fb97297",
   "metadata": {},
   "outputs": [
    {
     "name": "stdout",
     "output_type": "stream",
     "text": [
      "Summary Statistics for x:\n",
      "          bathrooms     bedrooms\n",
      "count  3571.000000  3575.000000\n",
      "mean      1.221647     1.255944\n",
      "std       0.501487     0.753060\n",
      "min       0.000000     0.000000\n",
      "25%       1.000000     1.000000\n",
      "50%       1.000000     1.000000\n",
      "75%       1.000000     2.000000\n",
      "max       6.000000     5.000000\n",
      "\n",
      "Summary Statistics for y:\n",
      " count        3585\n",
      "unique        324\n",
      "top       $150.00\n",
      "freq          144\n",
      "Name: price, dtype: object\n"
     ]
    }
   ],
   "source": [
    "# Calculate summary statistics for x\n",
    "summary_x = x.describe()\n",
    "print(\"Summary Statistics for x:\\n\", summary_x)\n",
    "\n",
    "# Calculate summary statistics for y\n",
    "summary_y = y.describe()\n",
    "print(\"\\nSummary Statistics for y:\\n\", summary_y)"
   ]
  },
  {
   "cell_type": "code",
   "execution_count": null,
   "id": "8cf7d976",
   "metadata": {},
   "outputs": [],
   "source": []
  }
 ],
 "metadata": {
  "kernelspec": {
   "display_name": "Python 3 (ipykernel)",
   "language": "python",
   "name": "python3"
  },
  "language_info": {
   "codemirror_mode": {
    "name": "ipython",
    "version": 3
   },
   "file_extension": ".py",
   "mimetype": "text/x-python",
   "name": "python",
   "nbconvert_exporter": "python",
   "pygments_lexer": "ipython3",
   "version": "3.11.5"
  }
 },
 "nbformat": 4,
 "nbformat_minor": 5
}
