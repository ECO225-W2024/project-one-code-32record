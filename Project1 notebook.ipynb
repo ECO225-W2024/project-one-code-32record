{
 "cells": [
  {
   "cell_type": "markdown",
   "id": "0ec49b11",
   "metadata": {},
   "source": [
    "\"How does the type of property affect price of listings \""
   ]
  },
  {
   "cell_type": "markdown",
   "id": "bcb02d43",
   "metadata": {},
   "source": [
    "Introduction\n",
    "data and the souce: \"Boston Airbnb Open data\" from https://www.kaggle.com/datasets/airbnb/boston\n",
    "The main aim of this project is to determine the impact of types and characteristics of Airbnb listing on its price. Airbnb is a home-sharing plaform that allows hosts to rent out their homes in a way. The hosts get to set the prices for their listings, under certain regulations and guidance by the platform. There are many attributes of the listings (e.g., neighbourhood, amenities, reviews) that would possibly affect the pricing, but the type of property, being the most visible and distinguishable characteristic, certainly have a significant impact on the pricing. \n",
    "findings: "
   ]
  },
  {
   "cell_type": "code",
   "execution_count": 3,
   "id": "13991c89",
   "metadata": {},
   "outputs": [],
   "source": [
    "import pandas as pd"
   ]
  },
  {
   "cell_type": "code",
   "execution_count": 17,
   "id": "c04d6011",
   "metadata": {},
   "outputs": [],
   "source": [
    "import numpy as np"
   ]
  },
  {
   "cell_type": "code",
   "execution_count": 4,
   "id": "881ee706",
   "metadata": {},
   "outputs": [],
   "source": [
    "df = pd.read_csv('listings.csv')"
   ]
  },
  {
   "cell_type": "code",
   "execution_count": null,
   "id": "96476d5c",
   "metadata": {},
   "outputs": [],
   "source": [
    "df.head() "
   ]
  },
  {
   "cell_type": "markdown",
   "id": "7164899d",
   "metadata": {},
   "source": [
    "X variable: property_type, room_type, bathrooms, bedrooms\n",
    "Y variable: Price\n",
    "The x variables I chose here are all related to the type of property (and features of the property). Respectively, the variables represent what type of property it is (e.g. apartment, condo, house), what type of room they get (e.g. a shared room, an entire apartment, a private room), and how many bathrooms and bedrooms the property has. These factors must have a strong correlation with the y variable, price, as it is the distinct characteristic that affect pricing. "
   ]
  },
  {
   "cell_type": "code",
   "execution_count": 26,
   "metadata": {},
   "outputs": [
    {
     "data": {
      "text/html": [
       "<div>\n",
       "<style scoped>\n",
       "    .dataframe tbody tr th:only-of-type {\n",
       "        vertical-align: middle;\n",
       "    }\n",
       "\n",
       "    .dataframe tbody tr th {\n",
       "        vertical-align: top;\n",
       "    }\n",
       "\n",
       "    .dataframe thead th {\n",
       "        text-align: right;\n",
       "    }\n",
       "</style>\n",
       "<table border=\"1\" class=\"dataframe\">\n",
       "  <thead>\n",
       "    <tr style=\"text-align: right;\">\n",
       "      <th></th>\n",
       "      <th>id</th>\n",
       "      <th>listing_url</th>\n",
       "      <th>scrape_id</th>\n",
       "      <th>last_scraped</th>\n",
       "      <th>name</th>\n",
       "      <th>summary</th>\n",
       "      <th>space</th>\n",
       "      <th>description</th>\n",
       "      <th>experiences_offered</th>\n",
       "      <th>neighborhood_overview</th>\n",
       "      <th>...</th>\n",
       "      <th>review_scores_value</th>\n",
       "      <th>requires_license</th>\n",
       "      <th>license</th>\n",
       "      <th>jurisdiction_names</th>\n",
       "      <th>instant_bookable</th>\n",
       "      <th>cancellation_policy</th>\n",
       "      <th>require_guest_profile_picture</th>\n",
       "      <th>require_guest_phone_verification</th>\n",
       "      <th>calculated_host_listings_count</th>\n",
       "      <th>reviews_per_month</th>\n",
       "    </tr>\n",
       "  </thead>\n",
       "  <tbody>\n",
       "  </tbody>\n",
       "</table>\n",
       "<p>0 rows × 95 columns</p>\n",
       "</div>"
      ],
      "text/plain": [
       "Empty DataFrame\n",
       "Columns: [id, listing_url, scrape_id, last_scraped, name, summary, space, description, experiences_offered, neighborhood_overview, notes, transit, access, interaction, house_rules, thumbnail_url, medium_url, picture_url, xl_picture_url, host_id, host_url, host_name, host_since, host_location, host_about, host_response_time, host_response_rate, host_acceptance_rate, host_is_superhost, host_thumbnail_url, host_picture_url, host_neighbourhood, host_listings_count, host_total_listings_count, host_verifications, host_has_profile_pic, host_identity_verified, street, neighbourhood, neighbourhood_cleansed, neighbourhood_group_cleansed, city, state, zipcode, market, smart_location, country_code, country, latitude, longitude, is_location_exact, property_type, room_type, accommodates, bathrooms, bedrooms, beds, bed_type, amenities, square_feet, price, weekly_price, monthly_price, security_deposit, cleaning_fee, guests_included, extra_people, minimum_nights, maximum_nights, calendar_updated, has_availability, availability_30, availability_60, availability_90, availability_365, calendar_last_scraped, number_of_reviews, first_review, last_review, review_scores_rating, review_scores_accuracy, review_scores_cleanliness, review_scores_checkin, review_scores_communication, review_scores_location, review_scores_value, requires_license, license, jurisdiction_names, instant_bookable, cancellation_policy, require_guest_profile_picture, require_guest_phone_verification, calculated_host_listings_count, reviews_per_month]\n",
       "Index: []\n",
       "\n",
       "[0 rows x 95 columns]"
      ]
     },
     "execution_count": 26,
     "metadata": {},
     "output_type": "execute_result"
    }
   ],
   "source": [
    "#Data cleaning\n",
    "\n",
    "#Dropping NA values\n",
    "df.isnull().sum()  # To check for missing values\n",
    "df.dropna(inplace=True)  # To drop rows with missing values\n",
    "\n",
    "#Dropping duplicates\n",
    "df.drop_duplicates(inplace=True)\n"
   ]
  },
  {
   "cell_type": "code",
   "execution_count": 25,
   "id": "6b7bb089",
   "metadata": {},
   "outputs": [
    {
     "name": "stdout",
     "output_type": "stream",
     "text": [
      "All NA values have been removed.\n",
      "All duplicates have been removed.\n"
     ]
    }
   ],
   "source": [
    "#Checking if all necessary values were removed \n",
    "\n",
    "if df.isna().any().any():\n",
    "    print(\"There are still NA values in the DataFrame.\")\n",
    "else:\n",
    "    print(\"All NA values have been removed.\")\n",
    "\n",
    "if df.duplicated().any():\n",
    "    print(\"There are still duplicate rows in the DataFrame.\")\n",
    "else:\n",
    "    print(\"All duplicates have been removed.\")\n"
   ]
  },
  {
   "cell_type": "code",
   "execution_count": 32,
   "id": "57a0cb81",
   "metadata": {},
   "outputs": [
    {
     "name": "stdout",
     "output_type": "stream",
     "text": [
      "[]\n"
     ]
    },
    {
     "data": {
      "text/plain": [
       "array([], dtype=object)"
      ]
     },
     "execution_count": 32,
     "metadata": {},
     "output_type": "execute_result"
    }
   ],
   "source": [
    "# Assigning categorical values to dummy variables \n",
    "df_with_dummies = pd.get_dummies(df, columns=['property_type'])\n",
    "\n",
    "# Sample DataFrame\n",
    "df = pd.DataFrame({\n",
    "    'Value': [10, 20, 15, 30],\n",
    "    'Color': ['Red', 'Blue', 'Green', 'Blue']\n",
    "})\n",
    "\n",
    "# Convert 'Color' into dummy variables\n",
    "df_with_dummies = pd.get_dummies(df, columns=['Color'])\n",
    "\n",
    "print(df_with_dummies)\n",
    "\n",
    "\n",
    "\n",
    "\n"
   ]
  },
  {
   "cell_type": "code",
   "execution_count": 8,
   "id": "903d40ab",
   "metadata": {},
   "outputs": [],
   "source": [
    "x = df[['property_type', 'room_type', 'bathrooms', 'bedrooms']]\n",
    "y = df['price']"
   ]
  },
  {
   "cell_type": "code",
   "execution_count": 9,
   "id": "6fb97297",
   "metadata": {},
   "outputs": [
    {
     "name": "stdout",
     "output_type": "stream",
     "text": [
      "Summary Statistics for x:\n",
      "          bathrooms     bedrooms\n",
      "count  3571.000000  3575.000000\n",
      "mean      1.221647     1.255944\n",
      "std       0.501487     0.753060\n",
      "min       0.000000     0.000000\n",
      "25%       1.000000     1.000000\n",
      "50%       1.000000     1.000000\n",
      "75%       1.000000     2.000000\n",
      "max       6.000000     5.000000\n",
      "\n",
      "Summary Statistics for y:\n",
      " count        3585\n",
      "unique        324\n",
      "top       $150.00\n",
      "freq          144\n",
      "Name: price, dtype: object\n"
     ]
    }
   ],
   "source": [
    "# Calculate summary statistics for x\n",
    "summary_x = x.describe()\n",
    "print(\"Summary Statistics for x:\\n\", summary_x)\n",
    "\n",
    "# Calculate summary statistics for y\n",
    "summary_y = y.describe()\n",
    "print(\"\\nSummary Statistics for y:\\n\", summary_y)"
   ]
  },
  {
   "cell_type": "code",
   "execution_count": null,
   "id": "8cf7d976",
   "metadata": {},
   "outputs": [],
   "source": []
  }
 ],
 "metadata": {
  "kernelspec": {
   "display_name": "Python 3 (ipykernel)",
   "language": "python",
   "name": "python3"
  },
  "language_info": {
   "codemirror_mode": {
    "name": "ipython",
    "version": 3
   },
   "file_extension": ".py",
   "mimetype": "text/x-python",
   "name": "python",
   "nbconvert_exporter": "python",
   "pygments_lexer": "ipython3",
   "version": "3.11.5"
  }
 },
 "nbformat": 4,
 "nbformat_minor": 5
}
